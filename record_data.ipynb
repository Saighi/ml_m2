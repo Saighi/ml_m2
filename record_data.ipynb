{
 "cells": [
  {
   "cell_type": "code",
   "execution_count": 5,
   "metadata": {},
   "outputs": [],
   "source": [
    "import numpy as np\n",
    "import h5py\n",
    "import tensorflow as tf\n",
    "import pandas as pd"
   ]
  },
  {
   "cell_type": "code",
   "execution_count": 6,
   "metadata": {},
   "outputs": [],
   "source": [
    "h5_datas =h5py.File(\"datas/X_train.h5/X_train.h5\",\"r\")\n",
    "eeg_1 = h5_datas[\"eeg_1\"][...]\n",
    "eeg_2 = h5_datas[\"eeg_2\"][...]\n",
    "eeg_3 = h5_datas[\"eeg_3\"][...]\n",
    "eeg_4 = h5_datas[\"eeg_4\"][...]\n",
    "eeg_5 = h5_datas[\"eeg_5\"][...]\n",
    "eeg_6 = h5_datas[\"eeg_6\"][...]\n",
    "eeg_7 = h5_datas[\"eeg_7\"][...]\n",
    "pulse = h5_datas[\"pulse\"][...]\n",
    "x =  h5_datas[\"x\"][...]\n",
    "y =  h5_datas[\"y\"][...]\n",
    "z =  h5_datas[\"z\"][...]\n",
    "labels =  pd.read_csv('datas/y_train.csv').values\n",
    "h5_datas.close()"
   ]
  },
  {
   "cell_type": "code",
   "execution_count": 13,
   "metadata": {},
   "outputs": [],
   "source": [
    "def get_observation(observation_id=0):\n",
    "    observation_data = {\n",
    "            'size': eeg_1[observation_id].shape[0],\n",
    "            'eeg_1': eeg_1[observation_id],\n",
    "            'eeg_2': eeg_2[observation_id],\n",
    "            'eeg_3': eeg_3[observation_id],\n",
    "            'eeg_4': eeg_4[observation_id],\n",
    "            'eeg_5': eeg_5[observation_id],\n",
    "            'eeg_5': eeg_5[observation_id],\n",
    "            'eeg_6': eeg_6[observation_id],\n",
    "            'eeg_7': eeg_7[observation_id],\n",
    "            'pulse': pulse[observation_id],\n",
    "            'x': x[observation_id],\n",
    "            'y': y[observation_id],\n",
    "            'z': y[observation_id],\n",
    "            'label': labels[observation_id][0]\n",
    "            }\n",
    "    return observation_data\n"
   ]
  },
  {
   "cell_type": "code",
   "execution_count": 9,
   "metadata": {},
   "outputs": [],
   "source": [
    "def get_example_object(single_record):\n",
    "    \n",
    "    record = tf.train.Example(features=tf.train.Features(feature={\n",
    "        'size': tf.train.Feature(\n",
    "            int64_list=tf.train.Int64List(value=[single_record['size']])),\n",
    "        'eeg_1': tf.train.Feature(\n",
    "            float_list=tf.train.FloatList(value=single_record['eeg_1'])), \n",
    "            #bytes_list=tf.train.BytesList(value=[single_record['img_string'].tobytes(order='C')])),\n",
    "        'eeg_2': tf.train.Feature(\n",
    "            float_list=tf.train.FloatList(value=single_record['eeg_2'])), \n",
    "            #bytes_list=tf.train.BytesList(value=[single_record['img_string'].tobytes(order='C')])),\n",
    "        'eeg_3': tf.train.Feature(\n",
    "            float_list=tf.train.FloatList(value=single_record['eeg_3'])), \n",
    "            #bytes_list=tf.train.BytesList(value=[single_record['img_string'].tobytes(order='C')])),\n",
    "        'eeg_4': tf.train.Feature(\n",
    "            float_list=tf.train.FloatList(value=single_record['eeg_4'])), \n",
    "            #bytes_list=tf.train.BytesList(value=[single_record['img_string'].tobytes(order='C')])),\n",
    "        'eeg_5': tf.train.Feature(\n",
    "            float_list=tf.train.FloatList(value=single_record['eeg_5'])), \n",
    "            #bytes_list=tf.train.BytesList(value=[single_record['img_string'].tobytes(order='C')])),\n",
    "        'eeg_6': tf.train.Feature(\n",
    "            float_list=tf.train.FloatList(value=single_record['eeg_6'])), \n",
    "            #bytes_list=tf.train.BytesList(value=[single_record['img_string'].tobytes(order='C')])),\n",
    "        'eeg_7': tf.train.Feature(\n",
    "            float_list=tf.train.FloatList(value=single_record['eeg_7'])), \n",
    "            #bytes_list=tf.train.BytesList(value=[single_record['img_string'].tobytes(order='C')])),\n",
    "        'pulse': tf.train.Feature(\n",
    "            float_list=tf.train.FloatList(value=single_record['pulse'])), \n",
    "            #bytes_list=tf.train.BytesList(value=[single_record['img_string'].tobytes(order='C')])),\n",
    "        'x': tf.train.Feature(\n",
    "            float_list=tf.train.FloatList(value=single_record['x'])), \n",
    "            #bytes_list=tf.train.BytesList(value=[single_record['img_string'].tobytes(order='C')])),\n",
    "        'y': tf.train.Feature(\n",
    "            float_list=tf.train.FloatList(value=single_record['y'])), \n",
    "            #bytes_list=tf.train.BytesList(value=[single_record['img_string'].tobytes(order='C')])),\n",
    "        'z': tf.train.Feature(\n",
    "            float_list=tf.train.FloatList(value=single_record['z'])), \n",
    "            #bytes_list=tf.train.BytesList(value=[single_record['img_string'].tobytes(order='C')])),\n",
    "        'label': tf.train.Feature(\n",
    "            int64_list=tf.train.Int64List(value=[single_record['label']]))\n",
    "    }))\n",
    "    return record\n"
   ]
  },
  {
   "cell_type": "code",
   "execution_count": 20,
   "metadata": {
    "collapsed": true,
    "jupyter": {
     "outputs_hidden": true
    }
   },
   "outputs": [
    {
     "name": "stdout",
     "output_type": "stream",
     "text": [
      "pass\n",
      "pass\n",
      "pass\n",
      "pass\n",
      "pass\n",
      "pass\n",
      "pass\n",
      "pass\n",
      "pass\n",
      "pass\n",
      "pass\n",
      "pass\n",
      "pass\n",
      "pass\n",
      "pass\n",
      "pass\n"
     ]
    }
   ],
   "source": [
    "#Number of TFR files to save the data into\n",
    "numFiles = 16\n",
    "records_per_file = int(len(labels)/numFiles)\n",
    "for file_id in range(numFiles):\n",
    "    with tf.io.TFRecordWriter('records_tf/SIGNALS_train_data_strings_' + str(file_id) + '.tfrecord') as tfwriter:\n",
    "        # Iterate through all records\n",
    "        for observation_id in range(records_per_file):\n",
    "            observation_data = get_observation(observation_id + file_id * records_per_file)\n",
    "            example = get_example_object(observation_data)\n",
    "    \n",
    "            # Append each record into TFRecord\n",
    "            tfwriter.write(example.SerializeToString())\n"
   ]
  }
 ],
 "metadata": {
  "kernelspec": {
   "display_name": "Python 3",
   "language": "python",
   "name": "python3"
  },
  "language_info": {
   "codemirror_mode": {
    "name": "ipython",
    "version": 3
   },
   "file_extension": ".py",
   "mimetype": "text/x-python",
   "name": "python",
   "nbconvert_exporter": "python",
   "pygments_lexer": "ipython3",
   "version": "3.8.3"
  },
  "name": "main_notebook.ipynb"
 },
 "nbformat": 4,
 "nbformat_minor": 4
}
