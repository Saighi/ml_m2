{
 "cells": [
  {
   "cell_type": "code",
   "execution_count": 1,
   "metadata": {
    "collapsed": false,
    "jupyter": {
     "outputs_hidden": false
    }
   },
   "outputs": [],
   "source": [
    "import numpy as np\n",
    "import h5py\n",
    "import tensorflow as tf\n",
    "import pandas as pd"
   ]
  },
  {
   "cell_type": "code",
   "execution_count": 2,
   "metadata": {},
   "outputs": [],
   "source": [
    "def split(array_2d,nb):\n",
    "    array_2d = np.array(np.split(array_2d, nb, axis=1))\n",
    "    return array_2d.reshape(-1, array_2d.shape[-1])"
   ]
  },
  {
   "cell_type": "code",
   "execution_count": 3,
   "metadata": {
    "collapsed": false,
    "jupyter": {
     "outputs_hidden": false
    }
   },
   "outputs": [],
   "source": [
    "h5_datas = h5py.File(\"../ml_project_data/h5/X_train.h5/X_train.h5\",\"r\")\n",
    "#h5_datas = h5py.File(\"F:\\ML_Project\\dreem-2-sleep-classification-challenge-2020\\X_train.h5\\X_train.h5\",\"r\")\n",
    "\n",
    "\n",
    "eeg_1 = split(h5_datas[\"eeg_1\"][...],2)\n",
    "eeg_2 = split(h5_datas[\"eeg_2\"][...],2)\n",
    "eeg_3 = split(h5_datas[\"eeg_3\"][...],2)\n",
    "eeg_4 = split(h5_datas[\"eeg_4\"][...],2)\n",
    "eeg_5 = split(h5_datas[\"eeg_5\"][...],2)\n",
    "eeg_6 = split(h5_datas[\"eeg_6\"][...],2)\n",
    "eeg_7 = split(h5_datas[\"eeg_7\"][...],2)\n",
    "pulse = np.repeat(split(h5_datas[\"pulse\"][...],2),5,axis=1)\n",
    "x =  np.repeat(split(h5_datas[\"x\"][...],2),5,axis=1)\n",
    "y =  np.repeat(split(h5_datas[\"y\"][...],2),5,axis=1)\n",
    "z = np.repeat(split(h5_datas[\"z\"][...],2),5,axis=1)\n",
    "labels =  np.tile(pd.read_csv('../ml_project_data/h5/y_train.csv').values[:,1],1)\n",
    "#labels =  np.tile(pd.read_csv('F:\\ML_Project\\dreem-2-sleep-classification-challenge-2020\\y_train.csv').values[:,1],6)\n",
    "\n",
    "h5_datas.close()"
   ]
  },
  {
   "cell_type": "code",
   "execution_count": 4,
   "metadata": {},
   "outputs": [
    {
     "data": {
      "text/plain": [
       "24688"
      ]
     },
     "execution_count": 4,
     "metadata": {},
     "output_type": "execute_result"
    }
   ],
   "source": [
    "len(labels)/16"
   ]
  },
  {
   "cell_type": "code",
   "execution_count": 5,
   "metadata": {
    "collapsed": false,
    "jupyter": {
     "outputs_hidden": false
    }
   },
   "outputs": [],
   "source": [
    "def get_observation(observation_id=0):\n",
    "    observation_data = {\n",
    "            'size': eeg_1[observation_id].shape[0],\n",
    "            'eeg_1': eeg_1[observation_id],\n",
    "            'eeg_2': eeg_2[observation_id],\n",
    "            'eeg_3': eeg_3[observation_id],\n",
    "            'eeg_4': eeg_4[observation_id],\n",
    "            'eeg_5': eeg_5[observation_id],\n",
    "            'eeg_5': eeg_5[observation_id],\n",
    "            'eeg_6': eeg_6[observation_id],\n",
    "            'eeg_7': eeg_7[observation_id],\n",
    "            'pulse': pulse[observation_id],\n",
    "            'x': x[observation_id],\n",
    "            'y': y[observation_id],\n",
    "            'z': y[observation_id],\n",
    "            'label': labels[observation_id]\n",
    "            }\n",
    "    return observation_data\n"
   ]
  },
  {
   "cell_type": "code",
   "execution_count": 6,
   "metadata": {
    "collapsed": false,
    "jupyter": {
     "outputs_hidden": false
    }
   },
   "outputs": [],
   "source": [
    "def get_example_object(single_record):\n",
    "\n",
    "    record = tf.train.Example(features=tf.train.Features(feature={\n",
    "        'size': tf.train.Feature(\n",
    "            int64_list=tf.train.Int64List(value=[single_record['size']])),\n",
    "        'eeg_1': tf.train.Feature(\n",
    "            float_list=tf.train.FloatList(value=single_record['eeg_1'])), \n",
    "            #bytes_list=tf.train.BytesList(value=[single_record['img_string'].tobytes(order='C')])),\n",
    "        'eeg_2': tf.train.Feature(\n",
    "            float_list=tf.train.FloatList(value=single_record['eeg_2'])), \n",
    "            #bytes_list=tf.train.BytesList(value=[single_record['img_string'].tobytes(order='C')])),\n",
    "        'eeg_3': tf.train.Feature(\n",
    "            float_list=tf.train.FloatList(value=single_record['eeg_3'])), \n",
    "            #bytes_list=tf.train.BytesList(value=[single_record['img_string'].tobytes(order='C')])),\n",
    "        'eeg_4': tf.train.Feature(\n",
    "            float_list=tf.train.FloatList(value=single_record['eeg_4'])), \n",
    "            #bytes_list=tf.train.BytesList(value=[single_record['img_string'].tobytes(order='C')])),\n",
    "        'eeg_5': tf.train.Feature(\n",
    "            float_list=tf.train.FloatList(value=single_record['eeg_5'])), \n",
    "            #bytes_list=tf.train.BytesList(value=[single_record['img_string'].tobytes(order='C')])),\n",
    "        'eeg_6': tf.train.Feature(\n",
    "            float_list=tf.train.FloatList(value=single_record['eeg_6'])), \n",
    "            #bytes_list=tf.train.BytesList(value=[single_record['img_string'].tobytes(order='C')])),\n",
    "        'eeg_7': tf.train.Feature(\n",
    "            float_list=tf.train.FloatList(value=single_record['eeg_7'])), \n",
    "            #bytes_list=tf.train.BytesList(value=[single_record['img_string'].tobytes(order='C')])),\n",
    "        'pulse': tf.train.Feature(\n",
    "            float_list=tf.train.FloatList(value=single_record['pulse'])), \n",
    "            #bytes_list=tf.train.BytesList(value=[single_record['img_string'].tobytes(order='C')])),\n",
    "        'x': tf.train.Feature(\n",
    "            float_list=tf.train.FloatList(value=single_record['x'])), \n",
    "            #bytes_list=tf.train.BytesList(value=[single_record['img_string'].tobytes(order='C')])),\n",
    "        'y': tf.train.Feature(\n",
    "            float_list=tf.train.FloatList(value=single_record['y'])), \n",
    "            #bytes_list=tf.train.BytesList(value=[single_record['img_string'].tobytes(order='C')])),\n",
    "        'z': tf.train.Feature(\n",
    "            float_list=tf.train.FloatList(value=single_record['z'])), \n",
    "            #bytes_list=tf.train.BytesList(value=[single_record['img_string'].tobytes(order='C')])),\n",
    "        'label': tf.train.Feature(\n",
    "            int64_list=tf.train.Int64List(value=[single_record['label']]))\n",
    "    }))\n",
    "    return record\n"
   ]
  },
  {
   "cell_type": "code",
   "execution_count": null,
   "metadata": {
    "collapsed": false,
    "jupyter": {
     "outputs_hidden": false
    }
   },
   "outputs": [],
   "source": [
    "#Number of TFR files to save the data into\n",
    "numFiles = 16\n",
    "records_per_file = int(len(labels)/numFiles)\n",
    "num=0\n",
    "for file_id in range(numFiles):\n",
    "    num+=1\n",
    "    #with tf.io.TFRecordWriter('F:\\ML_Project\\Records\\SIGNALS_train_datastrings' + str(file_id) + '.tfrecord') as tfwriter:\n",
    "    with tf.io.TFRecordWriter('../ml_project_data/records_tf/SIGNALS_train_data_strings_' + str(file_id) + '.tfrecord') as tfwriter:\n",
    "        # Iterate through all records\n",
    "        for observation_id in range(records_per_file):\n",
    "            observation_data = get_observation(observation_id + file_id * records_per_file)\n",
    "            example = get_example_object(observation_data)\n",
    "    \n",
    "            # Append each record into TFRecord\n",
    "            tfwriter.write(example.SerializeToString())\n",
    "        print(\"fichier n°\",num,\"écrit\")\n",
    "            \n"
   ]
  }
 ],
 "metadata": {
  "kernelspec": {
   "display_name": "Python 3",
   "language": "python",
   "name": "python3"
  },
  "language_info": {
   "codemirror_mode": {
    "name": "ipython",
    "version": 3
   },
   "file_extension": ".py",
   "mimetype": "text/x-python",
   "name": "python",
   "nbconvert_exporter": "python",
   "pygments_lexer": "ipython3",
   "version": "3.8.3"
  },
  "name": "record_data_5s.ipynb"
 },
 "nbformat": 4,
 "nbformat_minor": 4
}
