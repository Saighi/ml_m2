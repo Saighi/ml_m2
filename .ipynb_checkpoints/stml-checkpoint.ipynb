{
 "cells": [
  {
   "cell_type": "code",
   "execution_count": 2,
   "metadata": {
    "collapsed": false,
    "jupyter": {
     "outputs_hidden": false
    }
   },
   "outputs": [],
   "source": [
    "import numpy as np\n",
    "import tensorflow as tf\n",
    "from tensorflow import keras\n",
    "from tensorflow.keras import layers"
   ]
  },
  {
   "cell_type": "code",
   "execution_count": 3,
   "metadata": {
    "collapsed": false,
    "jupyter": {
     "outputs_hidden": false
    }
   },
   "outputs": [],
   "source": [
    "numFiles = 16\n",
    "# shuffle_size = 100\n",
    "\n",
    "fileNames = []\n",
    "for file_id in range(numFiles):\n",
    "    fileNames.append('../ml_project_data/records_tf_5s/SIGNALS_train_data_strings_' + str(file_id) + '.tfrecord')\n",
    "dataset = tf.data.TFRecordDataset(fileNames)"
   ]
  },
  {
   "cell_type": "code",
   "execution_count": 4,
   "metadata": {
    "collapsed": false,
    "jupyter": {
     "outputs_hidden": false
    }
   },
   "outputs": [],
   "source": [
    "def parser(record):\n",
    "    features = {\n",
    "                'size': tf.io.FixedLenFeature([], dtype=tf.int64),\n",
    "                'eeg_1': tf.io.VarLenFeature(dtype=tf.float32),\n",
    "                'eeg_2': tf.io.VarLenFeature(dtype=tf.float32),\n",
    "                'eeg_3': tf.io.VarLenFeature(dtype=tf.float32),\n",
    "                'eeg_4': tf.io.VarLenFeature(dtype=tf.float32),\n",
    "                'eeg_5': tf.io.VarLenFeature(dtype=tf.float32),\n",
    "                'eeg_5': tf.io.VarLenFeature(dtype=tf.float32),\n",
    "                'eeg_6': tf.io.VarLenFeature(dtype=tf.float32),\n",
    "                'eeg_7': tf.io.VarLenFeature(dtype=tf.float32),\n",
    "                'pulse': tf.io.VarLenFeature(dtype=tf.float32),\n",
    "                'x': tf.io.VarLenFeature(dtype=tf.float32),\n",
    "                'y': tf.io.VarLenFeature(dtype=tf.float32),\n",
    "                'z': tf.io.VarLenFeature(dtype=tf.float32),\n",
    "                'label': tf.io.FixedLenFeature([], dtype=tf.int64)\n",
    "\n",
    "                }\n",
    "    parsed = tf.io.parse_single_example(record, features)\n",
    "\n",
    "    to_return = {\"eeg_1\": parsed[\"eeg_1\"],\n",
    "            'eeg_2': parsed[\"eeg_2\"],\n",
    "            'eeg_3': parsed[\"eeg_3\"],\n",
    "            'eeg_4': parsed[\"eeg_4\"],\n",
    "            'eeg_5': parsed[\"eeg_5\"],\n",
    "            'eeg_6': parsed[\"eeg_6\"],\n",
    "            'eeg_7': parsed[\"eeg_7\"],\n",
    "            'pulse': parsed[\"pulse\"],\n",
    "            'x': parsed[\"x\"],\n",
    "            'y': parsed[\"y\"],\n",
    "            'z': parsed[\"z\"], \n",
    "            \"size\": parsed[\"size\"]}\n",
    "\n",
    "    return to_return, parsed[\"label\"]\n",
    "\n",
    "dataset = dataset.map(parser).batch(1024)\n",
    "# iterator_dataset = dataset.map(parser).__iter__()"
   ]
  },
  {
   "cell_type": "code",
   "execution_count": 5,
   "metadata": {
    "collapsed": false,
    "jupyter": {
     "outputs_hidden": false
    }
   },
   "outputs": [],
   "source": [
    "def count(counts, batch):\n",
    "  features, labels = batch\n",
    "  class_0 = labels == 0\n",
    "  class_0 = tf.cast(class_0, tf.int32)\n",
    "\n",
    "  class_1 = labels == 1\n",
    "  class_1 = tf.cast(class_1, tf.int32)\n",
    "\n",
    "  class_2 = labels == 2\n",
    "  class_2 = tf.cast(class_2, tf.int32)\n",
    "\n",
    "  class_3 = labels == 3\n",
    "  class_3 = tf.cast(class_3, tf.int32)\n",
    "\n",
    "  class_4 = labels == 4\n",
    "  class_4 = tf.cast(class_4, tf.int32)\n",
    "\n",
    "  counts['class_0'] += tf.reduce_sum(class_0)\n",
    "  counts['class_1'] += tf.reduce_sum(class_1)\n",
    "  counts['class_2'] += tf.reduce_sum(class_2)\n",
    "  counts['class_3'] += tf.reduce_sum(class_3)\n",
    "  counts['class_4'] += tf.reduce_sum(class_4)\n",
    "\n",
    "  return counts"
   ]
  },
  {
   "cell_type": "markdown",
   "metadata": {},
   "source": [
    "On peut voir que les classes ne sont pas équilibrées"
   ]
  },
  {
   "cell_type": "code",
   "execution_count": 6,
   "metadata": {
    "collapsed": false,
    "jupyter": {
     "outputs_hidden": false
    }
   },
   "outputs": [
    {
     "name": "stdout",
     "output_type": "stream",
     "text": [
      "[0.15820312 0.04785156 0.36328125 0.26627603 0.16438802]\n"
     ]
    }
   ],
   "source": [
    "echantillon = dataset.take(3)\n",
    "counts =echantillon.reduce(\n",
    "    initial_state={'class_0': 0, 'class_1': 0,'class_2': 0,'class_3': 0,'class_4': 0,},\n",
    "    reduce_func = count)\n",
    "\n",
    "counts = np.array([counts['class_0'].numpy(),\n",
    "                   counts['class_1'].numpy(),\n",
    "                   counts['class_2'].numpy(),\n",
    "                   counts['class_3'].numpy(),\n",
    "                   counts['class_4'].numpy(),\n",
    "                   ]).astype(np.float32)\n",
    "\n",
    "fractions = counts/counts.sum()\n",
    "print(fractions)\n",
    "\n"
   ]
  },
  {
   "cell_type": "code",
   "execution_count": 7,
   "metadata": {
    "collapsed": false,
    "jupyter": {
     "outputs_hidden": false
    }
   },
   "outputs": [],
   "source": [
    "\n",
    "@tf.autograph.experimental.do_not_convert\n",
    "def dataset_per_label(dataset):\n",
    "    dataset_label0 = (\n",
    "    dataset\n",
    "        .unbatch()\n",
    "        .filter(lambda features, label: label==0)\n",
    "        .repeat())\n",
    "\n",
    "    dataset_label1 = (\n",
    "    dataset\n",
    "        .unbatch()\n",
    "        .filter(lambda features, label: label==1)\n",
    "        .repeat())\n",
    "\n",
    "    dataset_label2 = (\n",
    "    dataset\n",
    "        .unbatch()\n",
    "        .filter(lambda features, label: label==2)\n",
    "        .repeat())\n",
    "\n",
    "    dataset_label3 = (\n",
    "    dataset\n",
    "        .unbatch()\n",
    "        .filter(lambda features, label: label==3)\n",
    "        .repeat())\n",
    "\n",
    "    dataset_label4 = (\n",
    "    dataset\n",
    "        .unbatch()\n",
    "        .filter(lambda features, label: label==4)\n",
    "        .repeat())\n",
    "    return dataset_label0,dataset_label1,dataset_label2,dataset_label3,dataset_label4\n",
    "\n",
    "dataset_label0,dataset_label1,dataset_label2,dataset_label3,dataset_label4 = dataset_per_label(dataset)\n"
   ]
  },
  {
   "cell_type": "code",
   "execution_count": 8,
   "metadata": {
    "collapsed": false,
    "jupyter": {
     "outputs_hidden": false
    }
   },
   "outputs": [],
   "source": [
    "balanced_ds = tf.data.experimental.sample_from_datasets(\n",
    "    [dataset_label0,dataset_label1,dataset_label2,dataset_label3,dataset_label4], [1/5, 1/5, 1/5, 1/5, 1/5]).batch(1024)\n"
   ]
  },
  {
   "cell_type": "markdown",
   "metadata": {},
   "source": [
    "Maintenant les observation piochées sont également distribuées"
   ]
  },
  {
   "cell_type": "code",
   "execution_count": 9,
   "metadata": {
    "collapsed": false,
    "jupyter": {
     "outputs_hidden": false
    }
   },
   "outputs": [
    {
     "name": "stdout",
     "output_type": "stream",
     "text": [
      "[0.19759114 0.18782552 0.21582031 0.19694011 0.20182292]\n"
     ]
    }
   ],
   "source": [
    "echantillon = balanced_ds.take(3)\n",
    "counts =echantillon.reduce(\n",
    "    initial_state={'class_0': 0, 'class_1': 0,'class_2': 0,'class_3': 0,'class_4': 0,},\n",
    "    reduce_func = count)\n",
    "\n",
    "counts = np.array([counts['class_0'].numpy(),\n",
    "                   counts['class_1'].numpy(),\n",
    "                   counts['class_2'].numpy(),\n",
    "                   counts['class_3'].numpy(),\n",
    "                   counts['class_4'].numpy(),\n",
    "                   ]).astype(np.float32)\n",
    "\n",
    "fractions = counts/counts.sum()\n",
    "print(fractions)\n"
   ]
  },
  {
   "cell_type": "code",
   "execution_count": 10,
   "metadata": {},
   "outputs": [],
   "source": [
    "lstm_model = tf.keras.models.Sequential([\n",
    "    \n",
    "    tf.keras.layers.Embedding(input_dim=1000, output_dim=64)\n",
    "\n",
    "    tf.keras.layers.LSTM(64,activation=\"relu\", return_sequences=True),\n",
    "    \n",
    "    tf.keras.layers.Dropout(0.2),\n",
    "    \n",
    "    tf.keras.layers.LSTM(32,activation=\"sigmoid\", return_sequences=True),\n",
    "\n",
    "    tf.keras.layers.Dense(units=5,activation=\"sigmoid\")\n",
    "    \n",
    "])\n"
   ]
  }
 ],
 "metadata": {
  "kernelspec": {
   "display_name": "Python 3",
   "language": "python",
   "name": "python3"
  },
  "language_info": {
   "codemirror_mode": {
    "name": "ipython",
    "version": 3
   },
   "file_extension": ".py",
   "mimetype": "text/x-python",
   "name": "python",
   "nbconvert_exporter": "python",
   "pygments_lexer": "ipython3",
   "version": "3.8.3"
  },
  "name": "stml.ipynb"
 },
 "nbformat": 4,
 "nbformat_minor": 4
}
