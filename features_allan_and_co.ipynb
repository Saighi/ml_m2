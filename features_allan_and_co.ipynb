{
 "cells": [
  {
   "cell_type": "code",
   "execution_count": 1,
   "metadata": {},
   "outputs": [],
   "source": [
    "import numpy as np\n",
    "import h5py\n",
    "from tools.tools import *\n",
    "from matplotlib import pyplot as plt \n",
    "import pandas as pd\n",
    "import random as rand\n",
    "from scipy.stats import zscore\n",
    "import time\n",
    "from sklearn.model_selection import train_test_split\n",
    "from sklearn.metrics import f1_score\n",
    "from constant import *\n",
    "import pyeeg"
   ]
  },
  {
   "cell_type": "code",
   "execution_count": 2,
   "metadata": {},
   "outputs": [],
   "source": [
    "h5_datas = h5py.File(\"../ml_project_data/h5/X_train.h5/X_train.h5\",\"r\")\n",
    "h5_features = h5py.File(\"../ml_project_data/h5/X_train.h5/extracted_features.hdf5\",\"r\")\n",
    "labels = pd.read_csv('../ml_project_data/h5/y_train.csv').values[:,1]"
   ]
  },
  {
   "cell_type": "code",
   "execution_count": 3,
   "metadata": {},
   "outputs": [],
   "source": [
    "X_train, X_test, y_train, y_test = pick_train_test(7000,labels)"
   ]
  },
  {
   "cell_type": "code",
   "execution_count": 4,
   "metadata": {},
   "outputs": [
    {
     "data": {
      "text/plain": [
       "['eeg_1_ApEn',\n",
       " 'eeg_1_energy',\n",
       " 'eeg_1_iqr',\n",
       " 'eeg_1_kurtosis',\n",
       " 'eeg_1_max',\n",
       " 'eeg_1_mean',\n",
       " 'eeg_1_median',\n",
       " 'eeg_1_min',\n",
       " 'eeg_1_min_to_max_distance',\n",
       " 'eeg_1_skewness',\n",
       " 'eeg_1_std',\n",
       " 'eeg_2_ApEn',\n",
       " 'eeg_2_energy',\n",
       " 'eeg_2_iqr',\n",
       " 'eeg_2_kurtosis',\n",
       " 'eeg_2_max',\n",
       " 'eeg_2_mean',\n",
       " 'eeg_2_median',\n",
       " 'eeg_2_min',\n",
       " 'eeg_2_min_to_max_distance',\n",
       " 'eeg_2_skewness',\n",
       " 'eeg_2_std',\n",
       " 'eeg_3_ApEn',\n",
       " 'eeg_3_energy',\n",
       " 'eeg_3_iqr',\n",
       " 'eeg_3_kurtosis',\n",
       " 'eeg_3_max',\n",
       " 'eeg_3_mean',\n",
       " 'eeg_3_median',\n",
       " 'eeg_3_min',\n",
       " 'eeg_3_min_to_max_distance',\n",
       " 'eeg_3_skewness',\n",
       " 'eeg_3_std',\n",
       " 'eeg_4_ApEn',\n",
       " 'eeg_4_energy',\n",
       " 'eeg_4_iqr',\n",
       " 'eeg_4_kurtosis',\n",
       " 'eeg_4_max',\n",
       " 'eeg_4_mean',\n",
       " 'eeg_4_median',\n",
       " 'eeg_4_min',\n",
       " 'eeg_4_min_to_max_distance',\n",
       " 'eeg_4_skewness',\n",
       " 'eeg_4_std',\n",
       " 'eeg_5_ApEn',\n",
       " 'eeg_5_energy',\n",
       " 'eeg_5_iqr',\n",
       " 'eeg_5_kurtosis',\n",
       " 'eeg_5_max',\n",
       " 'eeg_5_mean',\n",
       " 'eeg_5_median',\n",
       " 'eeg_5_min',\n",
       " 'eeg_5_min_to_max_distance',\n",
       " 'eeg_5_skewness',\n",
       " 'eeg_5_std',\n",
       " 'eeg_6_ApEn',\n",
       " 'eeg_6_energy',\n",
       " 'eeg_6_iqr',\n",
       " 'eeg_6_kurtosis',\n",
       " 'eeg_6_max',\n",
       " 'eeg_6_mean',\n",
       " 'eeg_6_median',\n",
       " 'eeg_6_min',\n",
       " 'eeg_6_min_to_max_distance',\n",
       " 'eeg_6_skewness',\n",
       " 'eeg_6_std',\n",
       " 'eeg_7_ApEn',\n",
       " 'eeg_7_energy',\n",
       " 'eeg_7_iqr',\n",
       " 'eeg_7_kurtosis',\n",
       " 'eeg_7_max',\n",
       " 'eeg_7_mean',\n",
       " 'eeg_7_median',\n",
       " 'eeg_7_min',\n",
       " 'eeg_7_min_to_max_distance',\n",
       " 'eeg_7_skewness',\n",
       " 'eeg_7_std',\n",
       " 'pulse_ApEn',\n",
       " 'pulse_energy',\n",
       " 'pulse_iqr',\n",
       " 'pulse_kurtosis',\n",
       " 'pulse_max',\n",
       " 'pulse_mean',\n",
       " 'pulse_median',\n",
       " 'pulse_min',\n",
       " 'pulse_min_to_max_distance',\n",
       " 'pulse_skewness',\n",
       " 'pulse_std',\n",
       " 'x_ApEn',\n",
       " 'x_energy',\n",
       " 'x_iqr',\n",
       " 'x_kurtosis',\n",
       " 'x_max',\n",
       " 'x_mean',\n",
       " 'x_median',\n",
       " 'x_min',\n",
       " 'x_min_to_max_distance',\n",
       " 'x_skewness',\n",
       " 'x_std',\n",
       " 'y_ApEn',\n",
       " 'y_energy',\n",
       " 'y_iqr',\n",
       " 'y_kurtosis',\n",
       " 'y_max',\n",
       " 'y_mean',\n",
       " 'y_median',\n",
       " 'y_min',\n",
       " 'y_min_to_max_distance',\n",
       " 'y_skewness',\n",
       " 'y_std',\n",
       " 'z_ApEn',\n",
       " 'z_energy',\n",
       " 'z_iqr',\n",
       " 'z_kurtosis',\n",
       " 'z_max',\n",
       " 'z_mean',\n",
       " 'z_median',\n",
       " 'z_min',\n",
       " 'z_min_to_max_distance',\n",
       " 'z_skewness',\n",
       " 'z_std']"
      ]
     },
     "execution_count": 4,
     "metadata": {},
     "output_type": "execute_result"
    }
   ],
   "source": [
    "list(h5_features.keys())"
   ]
  },
  {
   "cell_type": "code",
   "execution_count": 5,
   "metadata": {},
   "outputs": [],
   "source": [
    "feature_train_allan =record_features(X_train,h5_features)\n",
    "feature_test_allan =record_features(X_test,h5_features)\n"
   ]
  },
  {
   "cell_type": "code",
   "execution_count": 6,
   "metadata": {},
   "outputs": [],
   "source": [
    "eeg_train = np.transpose(record_eeg(X_train,h5_datas),(1,0,2))\n",
    "eeg_test = np.transpose(record_eeg(X_test,h5_datas),(1,0,2))"
   ]
  },
  {
   "cell_type": "code",
   "execution_count": 7,
   "metadata": {},
   "outputs": [],
   "source": [
    "pfd_train = treat_samples(eeg_train, pyeeg.pfd).T\n",
    "pfd_test = treat_samples(eeg_test, pyeeg.pfd).T"
   ]
  },
  {
   "cell_type": "code",
   "execution_count": 8,
   "metadata": {},
   "outputs": [],
   "source": [
    "X_train_pfd = np.concatenate((feature_train_allan,pfd_train),axis=1)\n",
    "X_test_pfd = np.concatenate((feature_test_allan,pfd_test),axis=1)"
   ]
  },
  {
   "cell_type": "code",
   "execution_count": 9,
   "metadata": {},
   "outputs": [
    {
     "data": {
      "text/plain": [
       "<matplotlib.collections.PathCollection at 0x7fe291db5460>"
      ]
     },
     "execution_count": 9,
     "metadata": {},
     "output_type": "execute_result"
    },
    {
     "data": {
      "image/png": "[encoded data removed]",
      "text/plain": [
       "<Figure size 432x288 with 1 Axes>"
      ]
     },
     "metadata": {
      "needs_background": "light"
     },
     "output_type": "display_data"
    }
   ],
   "source": [
    "plt.scatter(X_train_pfd[:,0],X_train_pfd[:,-1],c=y_train)"
   ]
  },
  {
   "cell_type": "markdown",
   "metadata": {},
   "source": [
    "# Random Forest Classifier"
   ]
  },
  {
   "cell_type": "code",
   "execution_count": 10,
   "metadata": {},
   "outputs": [],
   "source": [
    "from sklearn.ensemble import RandomForestClassifier"
   ]
  },
  {
   "cell_type": "code",
   "execution_count": 11,
   "metadata": {},
   "outputs": [
    {
     "data": {
      "text/plain": [
       "RandomForestClassifier(n_estimators=1000)"
      ]
     },
     "execution_count": 11,
     "metadata": {},
     "output_type": "execute_result"
    }
   ],
   "source": [
    "clf = RandomForestClassifier(n_estimators=1000)\n",
    "clf.fit(X_train_pfd, y_train)"
   ]
  },
  {
   "cell_type": "code",
   "execution_count": 12,
   "metadata": {},
   "outputs": [
    {
     "data": {
      "text/plain": [
       "0.7203106109447226"
      ]
     },
     "execution_count": 12,
     "metadata": {},
     "output_type": "execute_result"
    }
   ],
   "source": [
    "f1_score(y_test,clf.predict(X_test_pfd),average=\"macro\")"
   ]
  },
  {
   "cell_type": "markdown",
   "metadata": {},
   "source": [
    "# LightGBM"
   ]
  },
  {
   "cell_type": "code",
   "execution_count": 13,
   "metadata": {},
   "outputs": [
    {
     "name": "stdout",
     "output_type": "stream",
     "text": [
      "Object `lgb.LGBMClassifier` not found.\n"
     ]
    }
   ],
   "source": [
    "lgb.LGBMClassifier?"
   ]
  },
  {
   "cell_type": "code",
   "execution_count": 14,
   "metadata": {},
   "outputs": [
    {
     "data": {
      "text/plain": [
       "LGBMClassifier()"
      ]
     },
     "execution_count": 14,
     "metadata": {},
     "output_type": "execute_result"
    }
   ],
   "source": [
    "import lightgbm as lgb\n",
    "# model = lgb.LGBMClassifier(reg_lambda=10, n_estimators=10000)\n",
    "model = lgb.LGBMClassifier()\n",
    "model.fit(X_train_pfd,y_train)"
   ]
  },
  {
   "cell_type": "code",
   "execution_count": 15,
   "metadata": {},
   "outputs": [
    {
     "data": {
      "text/plain": [
       "0.7359626307897073"
      ]
     },
     "execution_count": 15,
     "metadata": {},
     "output_type": "execute_result"
    }
   ],
   "source": [
    "f1_score(y_test,model.predict(X_test_pfd),average=\"macro\")"
   ]
  },
  {
   "cell_type": "code",
   "execution_count": 16,
   "metadata": {},
   "outputs": [
    {
     "data": {
      "text/plain": [
       "array([ 74,  27,  82,  16,  49,  38,  60,  30,  75,  31,  71,   5,  42,\n",
       "        39,  70,  28,  41,  76,  29,  67,  20,  23,  72, 118, 107,  32,\n",
       "        66,  26,  87, 108,  17,  64,  73,  68,   6,  79,  78,  50,  86,\n",
       "        25,  84,  11,  22,  61,  97,   8,  85,  96,  53,  91,  77,  69,\n",
       "        37,  34,  83,  52,  55, 106,   9, 117, 104, 105,  89,  81,  40,\n",
       "        44, 103,  95,  43,  63,  94,   0,  24,  93, 127, 110, 102,  21,\n",
       "       111,  19,  88, 119, 115, 116,  14,  99,  80,  15,  92,  59,  12,\n",
       "         3,  58,  36,  33,   7,  47,  18,  62,  56,  65,  35,  10,   1,\n",
       "        48, 114,  51,   4, 100,  45,  13,  54,  57, 112, 113, 120, 101,\n",
       "       122,  90,  46,   2, 109, 126,  98, 123, 121, 125, 124])"
      ]
     },
     "execution_count": 16,
     "metadata": {},
     "output_type": "execute_result"
    }
   ],
   "source": [
    "np.argsort(clf.feature_importances_)"
   ]
  },
  {
   "cell_type": "markdown",
   "metadata": {},
   "source": [
    "# XGBoost"
   ]
  },
  {
   "cell_type": "code",
   "execution_count": 19,
   "metadata": {},
   "outputs": [],
   "source": [
    "import xgboost as xgb"
   ]
  },
  {
   "cell_type": "code",
   "execution_count": 22,
   "metadata": {},
   "outputs": [
    {
     "name": "stdout",
     "output_type": "stream",
     "text": [
      "[19:54:46] WARNING: ../src/learner.cc:1061: Starting in XGBoost 1.3.0, the default evaluation metric used with the objective 'multi:softprob' was changed from 'merror' to 'mlogloss'. Explicitly set eval_metric if you'd like to restore the old behavior.\n"
     ]
    },
    {
     "data": {
      "text/plain": [
       "XGBClassifier(base_score=0.5, booster='gbtree', colsample_bylevel=1,\n",
       "              colsample_bynode=1, colsample_bytree=1, gamma=0, gpu_id=-1,\n",
       "              importance_type='gain', interaction_constraints='',\n",
       "              learning_rate=0.300000012, max_delta_step=0, max_depth=6,\n",
       "              min_child_weight=1, missing=nan, monotone_constraints='()',\n",
       "              n_estimators=100, n_jobs=4, num_parallel_tree=1,\n",
       "              objective='multi:softprob', random_state=0, reg_alpha=0,\n",
       "              reg_lambda=1, scale_pos_weight=None, subsample=1,\n",
       "              tree_method='exact', validate_parameters=1, verbosity=None)"
      ]
     },
     "execution_count": 22,
     "metadata": {},
     "output_type": "execute_result"
    }
   ],
   "source": [
    "modelxgb = xgb.XGBClassifier()\n",
    "modelxgb.fit(X_train_pfd,y_train)"
   ]
  },
  {
   "cell_type": "code",
   "execution_count": 23,
   "metadata": {},
   "outputs": [
    {
     "data": {
      "text/plain": [
       "0.7346369878652876"
      ]
     },
     "execution_count": 23,
     "metadata": {},
     "output_type": "execute_result"
    }
   ],
   "source": [
    "f1_score(y_test,modelxgb.predict(X_test_pfd),average=\"macro\")"
   ]
  }
 ],
 "metadata": {
  "kernelspec": {
   "display_name": "Python 3",
   "language": "python",
   "name": "python3"
  },
  "language_info": {
   "codemirror_mode": {
    "name": "ipython",
    "version": 3
   },
   "file_extension": ".py",
   "mimetype": "text/x-python",
   "name": "python",
   "nbconvert_exporter": "python",
   "pygments_lexer": "ipython3",
   "version": "3.8.3"
  }
 },
 "nbformat": 4,
 "nbformat_minor": 4
}
